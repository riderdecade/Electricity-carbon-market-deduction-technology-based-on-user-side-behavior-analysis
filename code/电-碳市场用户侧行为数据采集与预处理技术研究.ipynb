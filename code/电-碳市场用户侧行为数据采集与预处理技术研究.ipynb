{
 "cells": [
  {
   "cell_type": "markdown",
   "metadata": {},
   "source": [
    "# 导入必要的库\n",
    "导入用于数据处理、分析和机器学习的库，如pandas、numpy、scikit-learn等。"
   ]
  },
  {
   "cell_type": "code",
   "execution_count": 4,
   "metadata": {},
   "outputs": [],
   "source": [
    "# 导入用于数据处理的库\n",
    "import pandas as pd\n",
    "import numpy as np\n",
    "\n",
    "# 导入用于机器学习的库\n",
    "from sklearn.preprocessing import StandardScaler\n",
    "from sklearn.impute import SimpleImputer\n",
    "from sklearn.decomposition import PCA\n",
    "\n",
    "# 导入用于数据可视化的库\n",
    "import matplotlib.pyplot as plt\n",
    "import seaborn as sns"
   ]
  },
  {
   "cell_type": "markdown",
   "metadata": {},
   "source": [
    "# 数据收集\n",
    "通过API或文件读取的方式收集电力使用数据和用户反馈数据。"
   ]
  },
  {
   "cell_type": "code",
   "execution_count": null,
   "metadata": {},
   "outputs": [],
   "source": [
    "# 数据收集\n",
    "\n",
    "# 通过API收集电力使用数据\n",
    "import requests\n",
    "\n",
    "def fetch_power_usage_data(api_url):\n",
    "    response = requests.get(api_url)\n",
    "    if response.status_code == 200:\n",
    "        data = response.json()\n",
    "        return pd.DataFrame(data)\n",
    "    else:\n",
    "        raise Exception(f\"Failed to fetch data: {response.status_code}\")\n",
    "\n",
    "# 示例API URL\n",
    "api_url = \"https://api.example.com/power_usage\"\n",
    "power_usage_data = fetch_power_usage_data(api_url)\n",
    "\n",
    "# 通过文件读取用户反馈数据\n",
    "def load_user_feedback(file_path):\n",
    "    return pd.read_csv(file_path)\n",
    "\n",
    "# 示例文件路径\n",
    "file_path = \"user_feedback.csv\"\n",
    "user_feedback_data = load_user_feedback(file_path)\n",
    "\n",
    "# 显示前几行数据\n",
    "print(\"电力使用数据:\")\n",
    "print(power_usage_data.head())\n",
    "\n",
    "print(\"\\n用户反馈数据:\")\n",
    "print(user_feedback_data.head())"
   ]
  },
  {
   "cell_type": "markdown",
   "metadata": {},
   "source": [
    "# 数据预处理\n"
   ]
  },
  {
   "cell_type": "code",
   "execution_count": null,
   "metadata": {},
   "outputs": [],
   "source": [
    "# 数据预处理\n",
    "\n",
    "# 合并电力使用数据和用户反馈数据\n",
    "merged_data = pd.merge(power_usage_data, user_feedback_data, on='user_id')\n",
    "\n",
    "# 填补缺失值\n",
    "imputer = SimpleImputer(strategy='mean')\n",
    "imputed_data = imputer.fit_transform(merged_data)\n",
    "\n",
    "# 将填补后的数据转换为DataFrame\n",
    "imputed_data = pd.DataFrame(imputed_data, columns=merged_data.columns)\n",
    "\n",
    "# 去除异常值\n",
    "z_scores = np.abs((imputed_data - imputed_data.mean()) / imputed_data.std())\n",
    "filtered_data = imputed_data[(z_scores < 3).all(axis=1)]\n",
    "\n",
    "# 数据标准化\n",
    "scaler = StandardScaler()\n",
    "scaled_data = scaler.fit_transform(filtered_data)\n",
    "\n",
    "# 将标准化后的数据转换为DataFrame\n",
    "scaled_data = pd.DataFrame(scaled_data, columns=filtered_data.columns)\n",
    "\n",
    "# 数据降维\n",
    "pca = PCA(n_components=2)\n",
    "reduced_data = pca.fit_transform(scaled_data)\n",
    "\n",
    "# 将降维后的数据转换为DataFrame\n",
    "reduced_data = pd.DataFrame(reduced_data, columns=['PC1', 'PC2'])\n",
    "\n",
    "# 显示处理后的数据\n",
    "print(\"处理后的数据:\")\n",
    "print(reduced_data.head())"
   ]
  },
  {
   "cell_type": "markdown",
   "metadata": {},
   "source": [
    "# 填补缺失数据\n",
    "采用统计方法或机器学习模型来填补不完整或缺失的数据记录。"
   ]
  },
  {
   "cell_type": "code",
   "execution_count": null,
   "metadata": {},
   "outputs": [],
   "source": [
    "# 填补缺失数据\n",
    "\n",
    "# 采用统计方法填补缺失数据\n",
    "imputer = SimpleImputer(strategy='mean')\n",
    "imputed_data = imputer.fit_transform(merged_data)\n",
    "\n",
    "# 将填补后的数据转换为DataFrame\n",
    "imputed_data = pd.DataFrame(imputed_data, columns=merged_data.columns)\n",
    "\n",
    "# 显示填补后的数据\n",
    "print(\"填补后的数据:\")\n",
    "print(imputed_data.head())"
   ]
  },
  {
   "cell_type": "markdown",
   "metadata": {},
   "source": [
    "# 去除异常值\n",
    "检测并去除由于设备故障或数据录入错误造成的异常值。"
   ]
  },
  {
   "cell_type": "code",
   "execution_count": null,
   "metadata": {},
   "outputs": [],
   "source": [
    "# 去除异常值\n",
    "\n",
    "# 计算每列的z-score\n",
    "z_scores = np.abs((imputed_data - imputed_data.mean()) / imputed_data.std())\n",
    "\n",
    "# 过滤掉z-score大于3的异常值\n",
    "filtered_data = imputed_data[(z_scores < 3).all(axis=1)]\n",
    "\n",
    "# 显示去除异常值后的数据\n",
    "print(\"去除异常值后的数据:\")\n",
    "print(filtered_data.head())"
   ]
  },
  {
   "cell_type": "markdown",
   "metadata": {},
   "source": [
    "# 数据标准化\n",
    "对所有数据进行标准化处理，使之在同一标准下可比。"
   ]
  },
  {
   "cell_type": "code",
   "execution_count": null,
   "metadata": {},
   "outputs": [],
   "source": [
    "# 数据标准化\n",
    "\n",
    "# 初始化标准化器\n",
    "scaler = StandardScaler()\n",
    "\n",
    "# 对数据进行标准化处理\n",
    "scaled_data = scaler.fit_transform(filtered_data)\n",
    "\n",
    "# 将标准化后的数据转换为DataFrame\n",
    "scaled_data = pd.DataFrame(scaled_data, columns=filtered_data.columns)\n",
    "\n",
    "# 显示标准化后的数据\n",
    "print(\"标准化后的数据:\")\n",
    "print(scaled_data.head())"
   ]
  },
  {
   "cell_type": "markdown",
   "metadata": {},
   "source": [
    "# 降维处理\n",
    "采用降维技术如PCA来减少数据的维度，同时尽量保留最关键的信息。"
   ]
  },
  {
   "cell_type": "code",
   "execution_count": null,
   "metadata": {},
   "outputs": [],
   "source": [
    "# 降维处理\n",
    "\n",
    "# 初始化PCA，设置主成分数为2\n",
    "pca = PCA(n_components=2)\n",
    "\n",
    "# 对标准化后的数据进行PCA降维\n",
    "reduced_data = pca.fit_transform(scaled_data)\n",
    "\n",
    "# 将降维后的数据转换为DataFrame\n",
    "reduced_data = pd.DataFrame(reduced_data, columns=['PC1', 'PC2'])\n",
    "\n",
    "# 显示降维后的数据\n",
    "print(\"降维后的数据:\")\n",
    "print(reduced_data.head())\n",
    "\n",
    "# 可视化降维后的数据\n",
    "plt.figure(figsize=(10, 6))\n",
    "sns.scatterplot(x='PC1', y='PC2', data=reduced_data)\n",
    "plt.title('PCA降维后的数据分布')\n",
    "plt.xlabel('主成分1')\n",
    "plt.ylabel('主成分2')\n",
    "plt.show()"
   ]
  },
  {
   "cell_type": "markdown",
   "metadata": {},
   "source": [
    "# 数据分析\n",
    "对处理后的数据进行分析，提取有用的信息和模式。"
   ]
  },
  {
   "cell_type": "code",
   "execution_count": null,
   "metadata": {},
   "outputs": [],
   "source": [
    "# 数据分析\n",
    "\n",
    "# 计算每个用户的总用电量\n",
    "total_power_usage = merged_data.groupby('user_id')['power_usage'].sum().reset_index()\n",
    "total_power_usage.columns = ['user_id', 'total_power_usage']\n",
    "\n",
    "# 计算每个用户的平均用电量\n",
    "average_power_usage = merged_data.groupby('user_id')['power_usage'].mean().reset_index()\n",
    "average_power_usage.columns = ['user_id', 'average_power_usage']\n",
    "\n",
    "# 计算每个用户的峰值用电量\n",
    "peak_power_usage = merged_data.groupby('user_id')['power_usage'].max().reset_index()\n",
    "peak_power_usage.columns = ['user_id', 'peak_power_usage']\n",
    "\n",
    "# 合并计算结果\n",
    "user_power_usage_stats = pd.merge(total_power_usage, average_power_usage, on='user_id')\n",
    "user_power_usage_stats = pd.merge(user_power_usage_stats, peak_power_usage, on='user_id')\n",
    "\n",
    "# 显示用户用电统计数据\n",
    "print(\"用户用电统计数据:\")\n",
    "print(user_power_usage_stats.head())\n",
    "\n",
    "# 可视化用户总用电量分布\n",
    "plt.figure(figsize=(10, 6))\n",
    "sns.histplot(user_power_usage_stats['total_power_usage'], bins=30, kde=True)\n",
    "plt.title('用户总用电量分布')\n",
    "plt.xlabel('总用电量')\n",
    "plt.ylabel('用户数')\n",
    "plt.show()\n",
    "\n",
    "# 可视化用户平均用电量分布\n",
    "plt.figure(figsize=(10, 6))\n",
    "sns.histplot(user_power_usage_stats['average_power_usage'], bins=30, kde=True)\n",
    "plt.title('用户平均用电量分布')\n",
    "plt.xlabel('平均用电量')\n",
    "plt.ylabel('用户数')\n",
    "plt.show()\n",
    "\n",
    "# 可视化用户峰值用电量分布\n",
    "plt.figure(figsize=(10, 6))\n",
    "sns.histplot(user_power_usage_stats['peak_power_usage'], bins=30, kde=True)\n",
    "plt.title('用户峰值用电量分布')\n",
    "plt.xlabel('峰值用电量')\n",
    "plt.ylabel('用户数')\n",
    "plt.show()\n",
    "\n",
    "# 计算用户对电价变动的反应\n",
    "user_feedback_data['price_reaction'] = user_feedback_data['price_reaction'].map({'positive': 1, 'negative': -1, 'neutral': 0})\n",
    "price_reaction_stats = user_feedback_data.groupby('user_id')['price_reaction'].mean().reset_index()\n",
    "price_reaction_stats.columns = ['user_id', 'average_price_reaction']\n",
    "\n",
    "# 合并用户用电统计数据和电价反应数据\n",
    "user_stats = pd.merge(user_power_usage_stats, price_reaction_stats, on='user_id')\n",
    "\n",
    "# 显示合并后的用户统计数据\n",
    "print(\"合并后的用户统计数据:\")\n",
    "print(user_stats.head())\n",
    "\n",
    "# 可视化用户对电价变动的反应\n",
    "plt.figure(figsize=(10, 6))\n",
    "sns.histplot(user_stats['average_price_reaction'], bins=30, kde=True)\n",
    "plt.title('用户对电价变动的反应分布')\n",
    "plt.xlabel('平均电价反应')\n",
    "plt.ylabel('用户数')\n",
    "plt.show()\n",
    "\n",
    "# 计算用户节能措施的采纳情况\n",
    "user_feedback_data['energy_saving'] = user_feedback_data['energy_saving'].map({'yes': 1, 'no': 0})\n",
    "energy_saving_stats = user_feedback_data.groupby('user_id')['energy_saving'].mean().reset_index()\n",
    "energy_saving_stats.columns = ['user_id', 'energy_saving_rate']\n",
    "\n",
    "# 合并用户统计数据和节能措施采纳情况\n",
    "user_stats = pd.merge(user_stats, energy_saving_stats, on='user_id')\n",
    "\n",
    "# 显示最终的用户统计数据\n",
    "print(\"最终的用户统计数据:\")\n",
    "print(user_stats.head())\n",
    "\n",
    "# 可视化用户节能措施的采纳情况\n",
    "plt.figure(figsize=(10, 6))\n",
    "sns.histplot(user_stats['energy_saving_rate'], bins=30, kde=True)\n",
    "plt.title('用户节能措施的采纳情况分布')\n",
    "plt.xlabel('节能措施采纳率')\n",
    "plt.ylabel('用户数')\n",
    "plt.show()"
   ]
  }
 ],
 "metadata": {
  "kernelspec": {
   "display_name": "electrical",
   "language": "python",
   "name": "python3"
  },
  "language_info": {
   "codemirror_mode": {
    "name": "ipython",
    "version": 3
   },
   "file_extension": ".py",
   "mimetype": "text/x-python",
   "name": "python",
   "nbconvert_exporter": "python",
   "pygments_lexer": "ipython3",
   "version": "3.13.0"
  }
 },
 "nbformat": 4,
 "nbformat_minor": 2
}
